{
 "cells": [
  {
   "cell_type": "code",
   "execution_count": 18,
   "metadata": {},
   "outputs": [],
   "source": [
    "import os\n",
    "import sys\n",
    "import json\n",
    "\n",
    "import pandas as pd\n",
    "from pathlib import Path\n",
    "from datetime import datetime\n",
    "from dotenv import load_dotenv\n",
    "\n",
    "from typing import List, Dict, Any\n",
    "import logging"
   ]
  },
  {
   "cell_type": "code",
   "execution_count": 19,
   "metadata": {},
   "outputs": [],
   "source": [
    "# Initial logging setup\n",
    "def setup_loggin():\n",
    "    \"\"\"Setup logging for tracking JSON analysis process\"\"\"\n",
    "    logging.basicConfig(\n",
    "        level=logging.INFO,\n",
    "        format=\"%(asctime)s - %(levelname)s - %(message)s\",\n",
    "        handlers=[logging.StreamHandler()],\n",
    "    )\n",
    "    return logging.getLogger(__name__)"
   ]
  },
  {
   "cell_type": "code",
   "execution_count": 20,
   "metadata": {},
   "outputs": [],
   "source": [
    "# Initialize the logger \n",
    "logger = setup_loggin()"
   ]
  },
  {
   "cell_type": "code",
   "execution_count": 6,
   "metadata": {},
   "outputs": [],
   "source": [
    "# STEP 1A: Initial Read Ops and JSON Data Overview\n",
    "with open('data/products.json', 'r') as file:\n",
    "    products_data = json.load(file)"
   ]
  },
  {
   "cell_type": "code",
   "execution_count": 8,
   "metadata": {},
   "outputs": [
    {
     "data": {
      "text/plain": [
       "dict"
      ]
     },
     "execution_count": 8,
     "metadata": {},
     "output_type": "execute_result"
    }
   ],
   "source": [
    "type(products_data)"
   ]
  },
  {
   "cell_type": "code",
   "execution_count": 9,
   "metadata": {},
   "outputs": [
    {
     "name": "stdout",
     "output_type": "stream",
     "text": [
      "Top Level Keys Include: dict_keys(['products', 'total', 'skip', 'limit'])\n"
     ]
    }
   ],
   "source": [
    "# STEP 1B: Get a snapshot of the main sections within the JSON file\n",
    "# Start with the top-level keys\n",
    "print(f'Top Level Keys Include: {products_data.keys()}')"
   ]
  },
  {
   "cell_type": "code",
   "execution_count": 16,
   "metadata": {},
   "outputs": [
    {
     "name": "stdout",
     "output_type": "stream",
     "text": [
      "Products: \n",
      "Type:  <class 'list'>\n",
      "Length: 30\n",
      "-----------------------\n",
      "Total: \n",
      "Type:  <class 'int'>\n",
      "Length: N/A\n",
      "-----------------------\n",
      "Skip: \n",
      "Type:  <class 'int'>\n",
      "Length: N/A\n",
      "-----------------------\n",
      "Limit: \n",
      "Type:  <class 'int'>\n",
      "Length: N/A\n",
      "-----------------------\n"
     ]
    }
   ],
   "source": [
    "# STEP 2: Explore Basic Data Structure\n",
    "# Basic key structure details\n",
    "for key, value in products_data.items():\n",
    "    print(f'{key.capitalize()}: \\nType:  {type(value)}\\nLength: {len(value) if isinstance(value, (list, dict)) else \"N/A\"}\\n-----------------------')"
   ]
  },
  {
   "cell_type": "code",
   "execution_count": 22,
   "metadata": {},
   "outputs": [
    {
     "name": "stdout",
     "output_type": "stream",
     "text": [
      "Product Fields:\n",
      "\n",
      "Field: id\n",
      "Type: <class 'int'>\n",
      "Sample Value: 1\n",
      "\n",
      "Field: title\n",
      "Type: <class 'str'>\n",
      "Sample Value: Essence Mascara Lash Princess\n",
      "\n",
      "Field: description\n",
      "Type: <class 'str'>\n",
      "Sample Value: The Essence Mascara Lash Princess is a popular mascara known for its volumizing and lengthening effects. Achieve dramatic lashes with this long-lasting and cruelty-free formula.\n",
      "\n",
      "Field: category\n",
      "Type: <class 'str'>\n",
      "Sample Value: beauty\n",
      "\n",
      "Field: price\n",
      "Type: <class 'float'>\n",
      "Sample Value: 9.99\n",
      "\n",
      "Field: discountPercentage\n",
      "Type: <class 'float'>\n",
      "Sample Value: 7.17\n",
      "\n",
      "Field: rating\n",
      "Type: <class 'float'>\n",
      "Sample Value: 4.94\n",
      "\n",
      "Field: stock\n",
      "Type: <class 'int'>\n",
      "Sample Value: 5\n",
      "\n",
      "Field: tags\n",
      "Type: <class 'list'>\n",
      "Sample Value: (nested structure)\n",
      "\n",
      "Field: brand\n",
      "Type: <class 'str'>\n",
      "Sample Value: Essence\n",
      "\n",
      "Field: sku\n",
      "Type: <class 'str'>\n",
      "Sample Value: RCH45Q1A\n",
      "\n",
      "Field: weight\n",
      "Type: <class 'int'>\n",
      "Sample Value: 2\n",
      "\n",
      "Field: dimensions\n",
      "Type: <class 'dict'>\n",
      "Sample Value: (nested structure)\n",
      "\n",
      "Field: warrantyInformation\n",
      "Type: <class 'str'>\n",
      "Sample Value: 1 month warranty\n",
      "\n",
      "Field: shippingInformation\n",
      "Type: <class 'str'>\n",
      "Sample Value: Ships in 1 month\n",
      "\n",
      "Field: availabilityStatus\n",
      "Type: <class 'str'>\n",
      "Sample Value: Low Stock\n",
      "\n",
      "Field: reviews\n",
      "Type: <class 'list'>\n",
      "Sample Value: (nested structure)\n",
      "\n",
      "Field: returnPolicy\n",
      "Type: <class 'str'>\n",
      "Sample Value: 30 days return policy\n",
      "\n",
      "Field: minimumOrderQuantity\n",
      "Type: <class 'int'>\n",
      "Sample Value: 24\n",
      "\n",
      "Field: meta\n",
      "Type: <class 'dict'>\n",
      "Sample Value: (nested structure)\n",
      "\n",
      "Field: images\n",
      "Type: <class 'list'>\n",
      "Sample Value: (nested structure)\n",
      "\n",
      "Field: thumbnail\n",
      "Type: <class 'str'>\n",
      "Sample Value: https://cdn.dummyjson.com/products/images/beauty/Essence%20Mascara%20Lash%20Princess/thumbnail.png\n"
     ]
    }
   ],
   "source": [
    "# STEP 3: Sample the data\n",
    "# Understand Product Structure\n",
    "# Get the first product as a sample\n",
    "sample_product = products_data['products'][0]\n",
    "\n",
    "print(\"Product Fields:\")\n",
    "for key, value in sample_product.items():\n",
    "    print(f\"\\nField: {key}\")\n",
    "    print(f\"Type: {type(value)}\")\n",
    "    print(f\"Sample Value: {value if not isinstance(value, (dict, list)) else '(nested structure)'}\")\n"
   ]
  },
  {
   "cell_type": "code",
   "execution_count": null,
   "metadata": {},
   "outputs": [],
   "source": []
  }
 ],
 "metadata": {
  "kernelspec": {
   "display_name": "Python 3",
   "language": "python",
   "name": "python3"
  },
  "language_info": {
   "codemirror_mode": {
    "name": "ipython",
    "version": 3
   },
   "file_extension": ".py",
   "mimetype": "text/x-python",
   "name": "python",
   "nbconvert_exporter": "python",
   "pygments_lexer": "ipython3",
   "version": "3.11.3"
  }
 },
 "nbformat": 4,
 "nbformat_minor": 2
}
